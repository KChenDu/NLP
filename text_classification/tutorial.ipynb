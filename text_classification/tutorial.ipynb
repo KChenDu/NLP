{
 "cells": [
  {
   "metadata": {},
   "cell_type": "markdown",
   "source": [
    "# Text classification\n",
    "\n",
    "Text classification is a common NLP task that assigns a label or class to text. Some of the largest companies run text classification in production for a wide range of practical applications. One of the most popular forms of text classification is sentiment analysis, which assigns a label like positive, negative, or neutral to a sequence of text.\n",
    "\n",
    "This guide will show you how to:\n",
    "\n",
    "1. Finetune [DistilBERT](https://huggingface.co/distilbert/distilbert-base-uncased) on the [IMDb](https://huggingface.co/datasets/imdb) dataset to determine whether a movie review is positive or negative.\n",
    "2. Use your finetuned model for inference.\n",
    "\n",
    "To see all architectures and checkpoints compatible with this task, we recommend checking the [task-page](https://huggingface.co/tasks/text-classification).\n",
    "\n",
    "Before you begin, make sure you have all the necessary libraries installed:\n",
    "```zsh\n",
    "pip install transformers datasets evaluate accelerate\n",
    "```\n",
    "## Load IMDb dataset\n",
    "\n",
    "Start by loading the IMDb dataset from the Datasets library:"
   ],
   "id": "b6b8325d63b614bf"
  },
  {
   "metadata": {
    "ExecuteTime": {
     "end_time": "2024-07-08T20:04:35.867903Z",
     "start_time": "2024-07-08T20:04:29.054021Z"
    }
   },
   "cell_type": "code",
   "source": [
    "from datasets import load_dataset\n",
    "\n",
    "\n",
    "imdb = load_dataset(\"imdb\")"
   ],
   "id": "4c15fec45baf6936",
   "outputs": [],
   "execution_count": 1
  },
  {
   "metadata": {},
   "cell_type": "markdown",
   "source": "Then take a look at an example:",
   "id": "40cb3fcae134680e"
  },
  {
   "metadata": {
    "ExecuteTime": {
     "end_time": "2024-07-08T20:04:35.874864Z",
     "start_time": "2024-07-08T20:04:35.868907Z"
    }
   },
   "cell_type": "code",
   "source": "imdb[\"test\"][0]",
   "id": "edb3857e7fcbf419",
   "outputs": [
    {
     "data": {
      "text/plain": [
       "{'text': 'I love sci-fi and am willing to put up with a lot. Sci-fi movies/TV are usually underfunded, under-appreciated and misunderstood. I tried to like this, I really did, but it is to good TV sci-fi as Babylon 5 is to Star Trek (the original). Silly prosthetics, cheap cardboard sets, stilted dialogues, CG that doesn\\'t match the background, and painfully one-dimensional characters cannot be overcome with a \\'sci-fi\\' setting. (I\\'m sure there are those of you out there who think Babylon 5 is good sci-fi TV. It\\'s not. It\\'s clichéd and uninspiring.) While US viewers might like emotion and character development, sci-fi is a genre that does not take itself seriously (cf. Star Trek). It may treat important issues, yet not as a serious philosophy. It\\'s really difficult to care about the characters here as they are not simply foolish, just missing a spark of life. Their actions and reactions are wooden and predictable, often painful to watch. The makers of Earth KNOW it\\'s rubbish as they have to always say \"Gene Roddenberry\\'s Earth...\" otherwise people would not continue watching. Roddenberry\\'s ashes must be turning in their orbit as this dull, cheap, poorly edited (watching it without advert breaks really brings this home) trudging Trabant of a show lumbers into space. Spoiler. So, kill off a main character. And then bring him back as another actor. Jeeez! Dallas all over again.',\n",
       " 'label': 0}"
      ]
     },
     "execution_count": 2,
     "metadata": {},
     "output_type": "execute_result"
    }
   ],
   "execution_count": 2
  },
  {
   "metadata": {},
   "cell_type": "markdown",
   "source": [
    "There are two fields in this dataset:\n",
    "- `text`: the movie review text.\n",
    "- `label`: a value that is either 0 for a negative review or 1 for a positive review.\n",
    "## Preprocess\n",
    "\n",
    "The next step is to load a DistilBERT tokenizer to preprocess the `text` field:"
   ],
   "id": "fc6db01e367d18c8"
  },
  {
   "metadata": {
    "ExecuteTime": {
     "end_time": "2024-07-08T20:04:37.823415Z",
     "start_time": "2024-07-08T20:04:35.875868Z"
    }
   },
   "cell_type": "code",
   "source": [
    "from transformers import AutoTokenizer\n",
    "\n",
    "\n",
    "tokenizer = AutoTokenizer.from_pretrained(\"distilbert/distilbert-base-uncased\")"
   ],
   "id": "57b6e49a9fc11782",
   "outputs": [],
   "execution_count": 3
  },
  {
   "metadata": {},
   "cell_type": "markdown",
   "source": "Create a preprocessing function to tokenize `text` and truncate sequences to be no longer than DistilBERT’s maximum input length:",
   "id": "bd7ea911e0b3af94"
  },
  {
   "metadata": {
    "ExecuteTime": {
     "end_time": "2024-07-08T20:04:37.828151Z",
     "start_time": "2024-07-08T20:04:37.824420Z"
    }
   },
   "cell_type": "code",
   "source": [
    "def preprocess_function(examples):\n",
    "    return tokenizer(examples[\"text\"], truncation=True)"
   ],
   "id": "f7f0a1658e65f328",
   "outputs": [],
   "execution_count": 4
  },
  {
   "metadata": {},
   "cell_type": "markdown",
   "source": "To apply the preprocessing function over the entire dataset, use Datasets [map](https://huggingface.co/docs/datasets/v2.20.0/en/package_reference/main_classes#datasets.Dataset.map) function. You can speed up `map` by setting `batched=True` to process multiple elements of the dataset at once:",
   "id": "958d6e52bff9db2d"
  },
  {
   "metadata": {
    "ExecuteTime": {
     "end_time": "2024-07-08T20:04:41.864326Z",
     "start_time": "2024-07-08T20:04:37.830169Z"
    }
   },
   "cell_type": "code",
   "source": "tokenized_imdb = imdb.map(preprocess_function, batched=True)",
   "id": "3b27b7fa8ecc713d",
   "outputs": [
    {
     "data": {
      "text/plain": [
       "Map:   0%|          | 0/25000 [00:00<?, ? examples/s]"
      ],
      "application/vnd.jupyter.widget-view+json": {
       "version_major": 2,
       "version_minor": 0,
       "model_id": "8abd4fe7f0554d51bb0e75cf62cdb7e5"
      }
     },
     "metadata": {},
     "output_type": "display_data"
    }
   ],
   "execution_count": 5
  },
  {
   "metadata": {},
   "cell_type": "markdown",
   "source": "Now create a batch of examples using [DataCollatorWithPadding](https://huggingface.co/docs/transformers/v4.42.0/en/main_classes/data_collator#transformers.DataCollatorWithPadding). It’s more efficient to `dynamically pad` the sentences to the longest length in a batch during collation, instead of padding the whole dataset to the maximum length.",
   "id": "27bca0881e08a367"
  },
  {
   "metadata": {
    "ExecuteTime": {
     "end_time": "2024-07-08T20:04:41.881571Z",
     "start_time": "2024-07-08T20:04:41.865331Z"
    }
   },
   "cell_type": "code",
   "source": [
    "from transformers import DataCollatorWithPadding\n",
    "\n",
    "\n",
    "data_collator = DataCollatorWithPadding(tokenizer=tokenizer)"
   ],
   "id": "986b168042aa67f6",
   "outputs": [],
   "execution_count": 6
  },
  {
   "metadata": {},
   "cell_type": "markdown",
   "source": [
    "## Evaluate\n",
    "\n",
    "Including a metric during training is often helpful for evaluating your model’s performance. You can quickly load a evaluation method with the [Evaluate](https://huggingface.co/docs/evaluate/index) library. For this task, load the [accuracy](https://huggingface.co/spaces/evaluate-metric/accuracy) metric (see the Evaluate [quick tour](https://huggingface.co/docs/evaluate/a_quick_tour) to learn more about how to load and compute a metric):"
   ],
   "id": "89eb11b865d67683"
  },
  {
   "metadata": {
    "ExecuteTime": {
     "end_time": "2024-07-08T20:04:44.213349Z",
     "start_time": "2024-07-08T20:04:41.882595Z"
    }
   },
   "cell_type": "code",
   "source": [
    "import evaluate\n",
    "\n",
    "\n",
    "accuracy = evaluate.load(\"accuracy\")"
   ],
   "id": "7bf9d9b1f782acbf",
   "outputs": [
    {
     "data": {
      "text/plain": [
       "Downloading builder script:   0%|          | 0.00/4.20k [00:00<?, ?B/s]"
      ],
      "application/vnd.jupyter.widget-view+json": {
       "version_major": 2,
       "version_minor": 0,
       "model_id": "e0ebe4667e454dd9adea1439da983434"
      }
     },
     "metadata": {},
     "output_type": "display_data"
    },
    {
     "ename": "ImportError",
     "evalue": "To be able to use evaluate-metric/accuracy, you need to install the following dependencies['scikit-learn'] using 'pip install sklearn' for instance'",
     "output_type": "error",
     "traceback": [
      "\u001B[1;31m---------------------------------------------------------------------------\u001B[0m",
      "\u001B[1;31mImportError\u001B[0m                               Traceback (most recent call last)",
      "Cell \u001B[1;32mIn[7], line 4\u001B[0m\n\u001B[0;32m      1\u001B[0m \u001B[38;5;28;01mimport\u001B[39;00m \u001B[38;5;21;01mevaluate\u001B[39;00m\n\u001B[1;32m----> 4\u001B[0m accuracy \u001B[38;5;241m=\u001B[39m evaluate\u001B[38;5;241m.\u001B[39mload(\u001B[38;5;124m\"\u001B[39m\u001B[38;5;124maccuracy\u001B[39m\u001B[38;5;124m\"\u001B[39m)\n",
      "File \u001B[1;32m~\\anaconda3\\envs\\NLP\\Lib\\site-packages\\evaluate\\loading.py:748\u001B[0m, in \u001B[0;36mload\u001B[1;34m(path, config_name, module_type, process_id, num_process, cache_dir, experiment_id, keep_in_memory, download_config, download_mode, revision, **init_kwargs)\u001B[0m\n\u001B[0;32m    703\u001B[0m \u001B[38;5;250m\u001B[39m\u001B[38;5;124;03m\"\"\"Load a [`~evaluate.EvaluationModule`].\u001B[39;00m\n\u001B[0;32m    704\u001B[0m \n\u001B[0;32m    705\u001B[0m \u001B[38;5;124;03mArgs:\u001B[39;00m\n\u001B[1;32m   (...)\u001B[0m\n\u001B[0;32m    745\u001B[0m \u001B[38;5;124;03m    ```\u001B[39;00m\n\u001B[0;32m    746\u001B[0m \u001B[38;5;124;03m\"\"\"\u001B[39;00m\n\u001B[0;32m    747\u001B[0m download_mode \u001B[38;5;241m=\u001B[39m DownloadMode(download_mode \u001B[38;5;129;01mor\u001B[39;00m DownloadMode\u001B[38;5;241m.\u001B[39mREUSE_DATASET_IF_EXISTS)\n\u001B[1;32m--> 748\u001B[0m evaluation_module \u001B[38;5;241m=\u001B[39m evaluation_module_factory(\n\u001B[0;32m    749\u001B[0m     path, module_type\u001B[38;5;241m=\u001B[39mmodule_type, revision\u001B[38;5;241m=\u001B[39mrevision, download_config\u001B[38;5;241m=\u001B[39mdownload_config, download_mode\u001B[38;5;241m=\u001B[39mdownload_mode\n\u001B[0;32m    750\u001B[0m )\n\u001B[0;32m    751\u001B[0m evaluation_cls \u001B[38;5;241m=\u001B[39m import_main_class(evaluation_module\u001B[38;5;241m.\u001B[39mmodule_path)\n\u001B[0;32m    752\u001B[0m evaluation_instance \u001B[38;5;241m=\u001B[39m evaluation_cls(\n\u001B[0;32m    753\u001B[0m     config_name\u001B[38;5;241m=\u001B[39mconfig_name,\n\u001B[0;32m    754\u001B[0m     process_id\u001B[38;5;241m=\u001B[39mprocess_id,\n\u001B[1;32m   (...)\u001B[0m\n\u001B[0;32m    760\u001B[0m     \u001B[38;5;241m*\u001B[39m\u001B[38;5;241m*\u001B[39minit_kwargs,\n\u001B[0;32m    761\u001B[0m )\n",
      "File \u001B[1;32m~\\anaconda3\\envs\\NLP\\Lib\\site-packages\\evaluate\\loading.py:680\u001B[0m, in \u001B[0;36mevaluation_module_factory\u001B[1;34m(path, module_type, revision, download_config, download_mode, force_local_path, dynamic_modules_path, **download_kwargs)\u001B[0m\n\u001B[0;32m    678\u001B[0m                 \u001B[38;5;28;01mpass\u001B[39;00m\n\u001B[0;32m    679\u001B[0m         \u001B[38;5;28;01mif\u001B[39;00m \u001B[38;5;129;01mnot\u001B[39;00m \u001B[38;5;28misinstance\u001B[39m(e1, (\u001B[38;5;167;01mConnectionError\u001B[39;00m, \u001B[38;5;167;01mFileNotFoundError\u001B[39;00m)):\n\u001B[1;32m--> 680\u001B[0m             \u001B[38;5;28;01mraise\u001B[39;00m e1 \u001B[38;5;28;01mfrom\u001B[39;00m \u001B[38;5;28;01mNone\u001B[39;00m\n\u001B[0;32m    681\u001B[0m         \u001B[38;5;28;01mraise\u001B[39;00m \u001B[38;5;167;01mFileNotFoundError\u001B[39;00m(\n\u001B[0;32m    682\u001B[0m             \u001B[38;5;124mf\u001B[39m\u001B[38;5;124m\"\u001B[39m\u001B[38;5;124mCouldn\u001B[39m\u001B[38;5;124m'\u001B[39m\u001B[38;5;124mt find a module script at \u001B[39m\u001B[38;5;132;01m{\u001B[39;00mrelative_to_absolute_path(combined_path)\u001B[38;5;132;01m}\u001B[39;00m\u001B[38;5;124m. \u001B[39m\u001B[38;5;124m\"\u001B[39m\n\u001B[0;32m    683\u001B[0m             \u001B[38;5;124mf\u001B[39m\u001B[38;5;124m\"\u001B[39m\u001B[38;5;124mModule \u001B[39m\u001B[38;5;124m'\u001B[39m\u001B[38;5;132;01m{\u001B[39;00mpath\u001B[38;5;132;01m}\u001B[39;00m\u001B[38;5;124m'\u001B[39m\u001B[38;5;124m doesn\u001B[39m\u001B[38;5;124m'\u001B[39m\u001B[38;5;124mt exist on the Hugging Face Hub either.\u001B[39m\u001B[38;5;124m\"\u001B[39m\n\u001B[0;32m    684\u001B[0m         ) \u001B[38;5;28;01mfrom\u001B[39;00m \u001B[38;5;28;01mNone\u001B[39;00m\n\u001B[0;32m    685\u001B[0m \u001B[38;5;28;01melse\u001B[39;00m:\n",
      "File \u001B[1;32m~\\anaconda3\\envs\\NLP\\Lib\\site-packages\\evaluate\\loading.py:639\u001B[0m, in \u001B[0;36mevaluation_module_factory\u001B[1;34m(path, module_type, revision, download_config, download_mode, force_local_path, dynamic_modules_path, **download_kwargs)\u001B[0m\n\u001B[0;32m    631\u001B[0m \u001B[38;5;28;01mfor\u001B[39;00m current_type \u001B[38;5;129;01min\u001B[39;00m [\u001B[38;5;124m\"\u001B[39m\u001B[38;5;124mmetric\u001B[39m\u001B[38;5;124m\"\u001B[39m, \u001B[38;5;124m\"\u001B[39m\u001B[38;5;124mcomparison\u001B[39m\u001B[38;5;124m\"\u001B[39m, \u001B[38;5;124m\"\u001B[39m\u001B[38;5;124mmeasurement\u001B[39m\u001B[38;5;124m\"\u001B[39m]:\n\u001B[0;32m    632\u001B[0m     \u001B[38;5;28;01mtry\u001B[39;00m:\n\u001B[0;32m    633\u001B[0m         \u001B[38;5;28;01mreturn\u001B[39;00m HubEvaluationModuleFactory(\n\u001B[0;32m    634\u001B[0m             \u001B[38;5;124mf\u001B[39m\u001B[38;5;124m\"\u001B[39m\u001B[38;5;124mevaluate-\u001B[39m\u001B[38;5;132;01m{\u001B[39;00mcurrent_type\u001B[38;5;132;01m}\u001B[39;00m\u001B[38;5;124m/\u001B[39m\u001B[38;5;132;01m{\u001B[39;00mpath\u001B[38;5;132;01m}\u001B[39;00m\u001B[38;5;124m\"\u001B[39m,\n\u001B[0;32m    635\u001B[0m             revision\u001B[38;5;241m=\u001B[39mrevision,\n\u001B[0;32m    636\u001B[0m             download_config\u001B[38;5;241m=\u001B[39mdownload_config,\n\u001B[0;32m    637\u001B[0m             download_mode\u001B[38;5;241m=\u001B[39mdownload_mode,\n\u001B[0;32m    638\u001B[0m             dynamic_modules_path\u001B[38;5;241m=\u001B[39mdynamic_modules_path,\n\u001B[1;32m--> 639\u001B[0m         )\u001B[38;5;241m.\u001B[39mget_module()\n\u001B[0;32m    640\u001B[0m     \u001B[38;5;28;01mexcept\u001B[39;00m \u001B[38;5;167;01mConnectionError\u001B[39;00m:\n\u001B[0;32m    641\u001B[0m         \u001B[38;5;28;01mpass\u001B[39;00m\n",
      "File \u001B[1;32m~\\anaconda3\\envs\\NLP\\Lib\\site-packages\\evaluate\\loading.py:489\u001B[0m, in \u001B[0;36mHubEvaluationModuleFactory.get_module\u001B[1;34m(self)\u001B[0m\n\u001B[0;32m    486\u001B[0m         \u001B[38;5;28;01mraise\u001B[39;00m err\n\u001B[0;32m    488\u001B[0m imports \u001B[38;5;241m=\u001B[39m get_imports(local_path)\n\u001B[1;32m--> 489\u001B[0m local_imports \u001B[38;5;241m=\u001B[39m _download_additional_modules(\n\u001B[0;32m    490\u001B[0m     name\u001B[38;5;241m=\u001B[39m\u001B[38;5;28mself\u001B[39m\u001B[38;5;241m.\u001B[39mname,\n\u001B[0;32m    491\u001B[0m     base_path\u001B[38;5;241m=\u001B[39mhf_hub_url(path\u001B[38;5;241m=\u001B[39m\u001B[38;5;28mself\u001B[39m\u001B[38;5;241m.\u001B[39mname, name\u001B[38;5;241m=\u001B[39m\u001B[38;5;124m\"\u001B[39m\u001B[38;5;124m\"\u001B[39m, revision\u001B[38;5;241m=\u001B[39mrevision),\n\u001B[0;32m    492\u001B[0m     imports\u001B[38;5;241m=\u001B[39mimports,\n\u001B[0;32m    493\u001B[0m     download_config\u001B[38;5;241m=\u001B[39m\u001B[38;5;28mself\u001B[39m\u001B[38;5;241m.\u001B[39mdownload_config,\n\u001B[0;32m    494\u001B[0m )\n\u001B[0;32m    495\u001B[0m \u001B[38;5;66;03m# copy the script and the files in an importable directory\u001B[39;00m\n\u001B[0;32m    496\u001B[0m dynamic_modules_path \u001B[38;5;241m=\u001B[39m \u001B[38;5;28mself\u001B[39m\u001B[38;5;241m.\u001B[39mdynamic_modules_path \u001B[38;5;28;01mif\u001B[39;00m \u001B[38;5;28mself\u001B[39m\u001B[38;5;241m.\u001B[39mdynamic_modules_path \u001B[38;5;28;01melse\u001B[39;00m init_dynamic_modules()\n",
      "File \u001B[1;32m~\\anaconda3\\envs\\NLP\\Lib\\site-packages\\evaluate\\loading.py:265\u001B[0m, in \u001B[0;36m_download_additional_modules\u001B[1;34m(name, base_path, imports, download_config)\u001B[0m\n\u001B[0;32m    263\u001B[0m         needs_to_be_installed\u001B[38;5;241m.\u001B[39madd((library_import_name, library_import_path))\n\u001B[0;32m    264\u001B[0m \u001B[38;5;28;01mif\u001B[39;00m needs_to_be_installed:\n\u001B[1;32m--> 265\u001B[0m     \u001B[38;5;28;01mraise\u001B[39;00m \u001B[38;5;167;01mImportError\u001B[39;00m(\n\u001B[0;32m    266\u001B[0m         \u001B[38;5;124mf\u001B[39m\u001B[38;5;124m\"\u001B[39m\u001B[38;5;124mTo be able to use \u001B[39m\u001B[38;5;132;01m{\u001B[39;00mname\u001B[38;5;132;01m}\u001B[39;00m\u001B[38;5;124m, you need to install the following dependencies\u001B[39m\u001B[38;5;124m\"\u001B[39m\n\u001B[0;32m    267\u001B[0m         \u001B[38;5;124mf\u001B[39m\u001B[38;5;124m\"\u001B[39m\u001B[38;5;132;01m{\u001B[39;00m[lib_name\u001B[38;5;250m \u001B[39m\u001B[38;5;28;01mfor\u001B[39;00m\u001B[38;5;250m \u001B[39mlib_name,\u001B[38;5;250m \u001B[39mlib_path\u001B[38;5;250m \u001B[39m\u001B[38;5;129;01min\u001B[39;00m\u001B[38;5;250m \u001B[39mneeds_to_be_installed]\u001B[38;5;132;01m}\u001B[39;00m\u001B[38;5;124m using \u001B[39m\u001B[38;5;124m'\u001B[39m\u001B[38;5;124mpip install \u001B[39m\u001B[38;5;124m\"\u001B[39m\n\u001B[0;32m    268\u001B[0m         \u001B[38;5;124mf\u001B[39m\u001B[38;5;124m\"\u001B[39m\u001B[38;5;132;01m{\u001B[39;00m\u001B[38;5;124m'\u001B[39m\u001B[38;5;124m \u001B[39m\u001B[38;5;124m'\u001B[39m\u001B[38;5;241m.\u001B[39mjoin([lib_path\u001B[38;5;250m \u001B[39m\u001B[38;5;28;01mfor\u001B[39;00m\u001B[38;5;250m \u001B[39mlib_name,\u001B[38;5;250m \u001B[39mlib_path\u001B[38;5;250m \u001B[39m\u001B[38;5;129;01min\u001B[39;00m\u001B[38;5;250m \u001B[39mneeds_to_be_installed])\u001B[38;5;132;01m}\u001B[39;00m\u001B[38;5;124m'\u001B[39m\u001B[38;5;124m for instance\u001B[39m\u001B[38;5;124m'\u001B[39m\u001B[38;5;124m\"\u001B[39m\n\u001B[0;32m    269\u001B[0m     )\n\u001B[0;32m    270\u001B[0m \u001B[38;5;28;01mreturn\u001B[39;00m local_imports\n",
      "\u001B[1;31mImportError\u001B[0m: To be able to use evaluate-metric/accuracy, you need to install the following dependencies['scikit-learn'] using 'pip install sklearn' for instance'"
     ]
    }
   ],
   "execution_count": 7
  },
  {
   "metadata": {},
   "cell_type": "markdown",
   "source": "Then create a function that passes your predictions and labels to `compute` to calculate the accuracy:",
   "id": "ac67ed11168a1adb"
  },
  {
   "metadata": {},
   "cell_type": "code",
   "source": [
    "import numpy as np\n",
    "\n",
    "\n",
    "def compute_metrics(eval_pred):\n",
    "    predictions, labels = eval_pred\n",
    "    predictions = np.argmax(predictions, axis=1)\n",
    "    return accuracy.compute(predictions=predictions, references=labels)"
   ],
   "id": "b31061d5e6300d6a",
   "outputs": [],
   "execution_count": null
  },
  {
   "metadata": {},
   "cell_type": "markdown",
   "source": [
    "Your `compute_metrics` function is ready to go now, and you’ll return to it when you setup your training.\n",
    "## Train\n",
    "Before you start training your model, create a map of the expected ids to their labels with `id2label` and `label2id`:"
   ],
   "id": "3955208414a05bed"
  },
  {
   "metadata": {},
   "cell_type": "code",
   "source": [
    "id2label = {0: \"NEGATIVE\", 1: \"POSITIVE\"}\n",
    "label2id = {\"NEGATIVE\": 0, \"POSITIVE\": 1}"
   ],
   "id": "ce9fd615e077aad",
   "outputs": [],
   "execution_count": null
  },
  {
   "metadata": {},
   "cell_type": "markdown",
   "source": [
    "If you aren’t familiar with finetuning a model with the [Trainer](https://huggingface.co/docs/transformers/v4.42.0/en/main_classes/trainer#transformers.Trainer), take a look at the basic tutorial [here](https://huggingface.co/docs/transformers/en/training#train-with-pytorch-trainer)!\n",
    "\n",
    "You’re ready to start training your model now! Load DistilBERT with [AutoModelForSequenceClassification](https://huggingface.co/docs/transformers/v4.42.0/en/model_doc/auto#transformers.AutoModelForSequenceClassification) along with the number of expected labels, and the label mappings:"
   ],
   "id": "2560efa9aba0b44d"
  },
  {
   "metadata": {},
   "cell_type": "code",
   "source": [
    "from transformers import AutoModelForSequenceClassification, TrainingArguments, Trainer\n",
    "\n",
    "\n",
    "model = AutoModelForSequenceClassification.from_pretrained(\"distilbert/distilbert-base-uncased\", num_labels=2, id2label=id2label, label2id=label2id)"
   ],
   "id": "7ef5ff915bb6b63",
   "outputs": [],
   "execution_count": null
  },
  {
   "metadata": {},
   "cell_type": "markdown",
   "source": [
    "At this point, only three steps remain:\n",
    "\n",
    "1. Define your training hyperparameters in [TrainingArguments](https://huggingface.co/docs/transformers/v4.42.0/en/main_classes/trainer#transformers.TrainingArguments). The only required parameter is `output_dir` which specifies where to save your model. At the end of each epoch, the [Trainer](https://huggingface.co/docs/transformers/v4.42.0/en/main_classes/trainer#transformers.Trainer) will evaluate the accuracy and save the training checkpoint.\n",
    "2. Pass the training arguments to [Trainer](https://huggingface.co/docs/transformers/v4.42.0/en/main_classes/trainer#transformers.Trainer) along with the model, dataset, tokenizer, data collator, and `compute_metrics` function.\n",
    "3. Call `train()` to finetune your model."
   ],
   "id": "8f03ff2228a8535d"
  },
  {
   "metadata": {},
   "cell_type": "code",
   "source": [
    "training_args = TrainingArguments(\n",
    "    output_dir=\"my_awesome_model\",\n",
    "    learning_rate=2e-5,\n",
    "    per_device_train_batch_size=16,\n",
    "    per_device_eval_batch_size=16,\n",
    "    num_train_epochs=2,\n",
    "    weight_decay=0.01,\n",
    "    eval_strategy=\"epoch\",\n",
    "    save_strategy=\"epoch\",\n",
    "    load_best_model_at_end=True,\n",
    ")\n",
    "\n",
    "trainer = Trainer(\n",
    "    model=model,\n",
    "    args=training_args,\n",
    "    train_dataset=tokenized_imdb[\"train\"],\n",
    "    eval_dataset=tokenized_imdb[\"test\"],\n",
    "    tokenizer=tokenizer,\n",
    "    data_collator=data_collator,\n",
    "    compute_metrics=compute_metrics,\n",
    ")\n",
    "\n",
    "trainer.train()"
   ],
   "id": "afc5109a2653f328",
   "outputs": [],
   "execution_count": null
  },
  {
   "metadata": {},
   "cell_type": "markdown",
   "source": [
    "[Trainer](https://huggingface.co/docs/transformers/v4.42.0/en/main_classes/trainer#transformers.Trainer) applies dynamic padding by default when you pass `tokenizer` to it. In this case, you don’t need to specify a data collator explicitly.\n",
    "\n",
    "For a more in-depth example of how to finetune a model for text classification, take a look at the corresponding [PyTorch notebook](https://colab.research.google.com/github/huggingface/notebooks/blob/main/examples/text_classification.ipynb).\n",
    "## Inference\n",
    "Great, now that you’ve finetuned a model, you can use it for inference!\n",
    "\n",
    "Grab some text you’d like to run inference on:"
   ],
   "id": "7fb9d323fe3196c0"
  },
  {
   "metadata": {},
   "cell_type": "code",
   "source": "text = \"This was a masterpiece. Not completely faithful to the books, but enthralling from beginning to end. Might be my favorite of the three.\"",
   "id": "3998c0d94dedb8f0",
   "outputs": [],
   "execution_count": null
  },
  {
   "metadata": {},
   "cell_type": "markdown",
   "source": "The simplest way to try out your finetuned model for inference is to use it in a [pipeline()](https://huggingface.co/docs/transformers/v4.42.0/en/main_classes/pipelines#transformers.pipeline). Instantiate a `pipeline` for sentiment analysis with your model, and pass your text to it:",
   "id": "7173c633cf21e820"
  },
  {
   "metadata": {},
   "cell_type": "code",
   "source": [
    "from transformers import pipeline\n",
    "\n",
    "\n",
    "classifier = pipeline(\"sentiment-analysis\", model=\"stevhliu/my_awesome_model\")\n",
    "classifier(text)"
   ],
   "id": "a6d1418e00bece3c",
   "outputs": [],
   "execution_count": null
  }
 ],
 "metadata": {
  "kernelspec": {
   "display_name": "Python 3",
   "language": "python",
   "name": "python3"
  },
  "language_info": {
   "codemirror_mode": {
    "name": "ipython",
    "version": 2
   },
   "file_extension": ".py",
   "mimetype": "text/x-python",
   "name": "python",
   "nbconvert_exporter": "python",
   "pygments_lexer": "ipython2",
   "version": "2.7.6"
  }
 },
 "nbformat": 4,
 "nbformat_minor": 5
}
