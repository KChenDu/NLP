{
 "cells": [
  {
   "metadata": {},
   "cell_type": "markdown",
   "source": [
    "# Text classification\n",
    "\n",
    "Text classification is a common NLP task that assigns a label or class to text. Some of the largest companies run text classification in production for a wide range of practical applications. One of the most popular forms of text classification is sentiment analysis, which assigns a label like positive, negative, or neutral to a sequence of text.\n",
    "\n",
    "This guide will show you how to:\n",
    "\n",
    "1. Finetune [DistilBERT](https://huggingface.co/distilbert/distilbert-base-uncased) on the [IMDb](https://huggingface.co/datasets/imdb) dataset to determine whether a movie review is positive or negative.\n",
    "2. Use your finetuned model for inference.\n",
    "\n",
    "To see all architectures and checkpoints compatible with this task, we recommend checking the [task-page](https://huggingface.co/tasks/text-classification).\n",
    "\n",
    "Before you begin, make sure you have all the necessary libraries installed:\n",
    "```zsh\n",
    "pip install transformers datasets evaluate accelerate\n",
    "```\n",
    "## Load IMDb dataset\n",
    "\n",
    "Start by loading the IMDb dataset from the Datasets library:"
   ],
   "id": "b6b8325d63b614bf"
  },
  {
   "metadata": {
    "ExecuteTime": {
     "end_time": "2024-07-08T20:32:22.357356Z",
     "start_time": "2024-07-08T20:32:16.104963Z"
    }
   },
   "cell_type": "code",
   "source": [
    "from datasets import load_dataset\n",
    "\n",
    "\n",
    "imdb = load_dataset(\"imdb\")"
   ],
   "id": "4c15fec45baf6936",
   "outputs": [],
   "execution_count": 1
  },
  {
   "metadata": {},
   "cell_type": "markdown",
   "source": "Then take a look at an example:",
   "id": "40cb3fcae134680e"
  },
  {
   "metadata": {
    "ExecuteTime": {
     "end_time": "2024-07-08T20:32:22.365020Z",
     "start_time": "2024-07-08T20:32:22.359470Z"
    }
   },
   "cell_type": "code",
   "source": "imdb[\"test\"][0]",
   "id": "edb3857e7fcbf419",
   "outputs": [
    {
     "data": {
      "text/plain": [
       "{'text': 'I love sci-fi and am willing to put up with a lot. Sci-fi movies/TV are usually underfunded, under-appreciated and misunderstood. I tried to like this, I really did, but it is to good TV sci-fi as Babylon 5 is to Star Trek (the original). Silly prosthetics, cheap cardboard sets, stilted dialogues, CG that doesn\\'t match the background, and painfully one-dimensional characters cannot be overcome with a \\'sci-fi\\' setting. (I\\'m sure there are those of you out there who think Babylon 5 is good sci-fi TV. It\\'s not. It\\'s clichéd and uninspiring.) While US viewers might like emotion and character development, sci-fi is a genre that does not take itself seriously (cf. Star Trek). It may treat important issues, yet not as a serious philosophy. It\\'s really difficult to care about the characters here as they are not simply foolish, just missing a spark of life. Their actions and reactions are wooden and predictable, often painful to watch. The makers of Earth KNOW it\\'s rubbish as they have to always say \"Gene Roddenberry\\'s Earth...\" otherwise people would not continue watching. Roddenberry\\'s ashes must be turning in their orbit as this dull, cheap, poorly edited (watching it without advert breaks really brings this home) trudging Trabant of a show lumbers into space. Spoiler. So, kill off a main character. And then bring him back as another actor. Jeeez! Dallas all over again.',\n",
       " 'label': 0}"
      ]
     },
     "execution_count": 2,
     "metadata": {},
     "output_type": "execute_result"
    }
   ],
   "execution_count": 2
  },
  {
   "metadata": {},
   "cell_type": "markdown",
   "source": [
    "There are two fields in this dataset:\n",
    "- `text`: the movie review text.\n",
    "- `label`: a value that is either 0 for a negative review or 1 for a positive review.\n",
    "## Preprocess\n",
    "\n",
    "The next step is to load a DistilBERT tokenizer to preprocess the `text` field:"
   ],
   "id": "fc6db01e367d18c8"
  },
  {
   "metadata": {
    "ExecuteTime": {
     "end_time": "2024-07-08T20:32:23.777185Z",
     "start_time": "2024-07-08T20:32:22.366032Z"
    }
   },
   "cell_type": "code",
   "source": [
    "from transformers import AutoTokenizer\n",
    "\n",
    "\n",
    "tokenizer = AutoTokenizer.from_pretrained(\"distilbert/distilbert-base-uncased\")"
   ],
   "id": "57b6e49a9fc11782",
   "outputs": [],
   "execution_count": 3
  },
  {
   "metadata": {},
   "cell_type": "markdown",
   "source": "Create a preprocessing function to tokenize `text` and truncate sequences to be no longer than DistilBERT’s maximum input length:",
   "id": "bd7ea911e0b3af94"
  },
  {
   "metadata": {
    "ExecuteTime": {
     "end_time": "2024-07-08T20:32:23.782024Z",
     "start_time": "2024-07-08T20:32:23.777185Z"
    }
   },
   "cell_type": "code",
   "source": [
    "def preprocess_function(examples):\n",
    "    return tokenizer(examples[\"text\"], truncation=True)"
   ],
   "id": "f7f0a1658e65f328",
   "outputs": [],
   "execution_count": 4
  },
  {
   "metadata": {},
   "cell_type": "markdown",
   "source": "To apply the preprocessing function over the entire dataset, use Datasets [map](https://huggingface.co/docs/datasets/v2.20.0/en/package_reference/main_classes#datasets.Dataset.map) function. You can speed up `map` by setting `batched=True` to process multiple elements of the dataset at once:",
   "id": "958d6e52bff9db2d"
  },
  {
   "metadata": {
    "ExecuteTime": {
     "end_time": "2024-07-08T20:32:23.817228Z",
     "start_time": "2024-07-08T20:32:23.782024Z"
    }
   },
   "cell_type": "code",
   "source": "tokenized_imdb = imdb.map(preprocess_function, batched=True)",
   "id": "3b27b7fa8ecc713d",
   "outputs": [],
   "execution_count": 5
  },
  {
   "metadata": {},
   "cell_type": "markdown",
   "source": "Now create a batch of examples using [DataCollatorWithPadding](https://huggingface.co/docs/transformers/v4.42.0/en/main_classes/data_collator#transformers.DataCollatorWithPadding). It’s more efficient to `dynamically pad` the sentences to the longest length in a batch during collation, instead of padding the whole dataset to the maximum length.",
   "id": "27bca0881e08a367"
  },
  {
   "metadata": {
    "ExecuteTime": {
     "end_time": "2024-07-08T20:32:24.058326Z",
     "start_time": "2024-07-08T20:32:23.817228Z"
    }
   },
   "cell_type": "code",
   "source": [
    "from transformers import DataCollatorWithPadding\n",
    "\n",
    "\n",
    "data_collator = DataCollatorWithPadding(tokenizer=tokenizer)"
   ],
   "id": "986b168042aa67f6",
   "outputs": [],
   "execution_count": 6
  },
  {
   "metadata": {},
   "cell_type": "markdown",
   "source": [
    "## Evaluate\n",
    "\n",
    "Including a metric during training is often helpful for evaluating your model’s performance. You can quickly load a evaluation method with the [Evaluate](https://huggingface.co/docs/evaluate/index) library. For this task, load the [accuracy](https://huggingface.co/spaces/evaluate-metric/accuracy) metric (see the Evaluate [quick tour](https://huggingface.co/docs/evaluate/a_quick_tour) to learn more about how to load and compute a metric):"
   ],
   "id": "89eb11b865d67683"
  },
  {
   "metadata": {
    "ExecuteTime": {
     "end_time": "2024-07-08T20:32:25.063650Z",
     "start_time": "2024-07-08T20:32:24.058326Z"
    }
   },
   "cell_type": "code",
   "source": [
    "import evaluate\n",
    "\n",
    "\n",
    "accuracy = evaluate.load(\"accuracy\")"
   ],
   "id": "7bf9d9b1f782acbf",
   "outputs": [],
   "execution_count": 7
  },
  {
   "metadata": {},
   "cell_type": "markdown",
   "source": "Then create a function that passes your predictions and labels to `compute` to calculate the accuracy:",
   "id": "ac67ed11168a1adb"
  },
  {
   "metadata": {
    "ExecuteTime": {
     "end_time": "2024-07-08T20:32:25.068006Z",
     "start_time": "2024-07-08T20:32:25.063650Z"
    }
   },
   "cell_type": "code",
   "source": [
    "import numpy as np\n",
    "\n",
    "\n",
    "def compute_metrics(eval_pred):\n",
    "    predictions, labels = eval_pred\n",
    "    predictions = np.argmax(predictions, axis=1)\n",
    "    return accuracy.compute(predictions=predictions, references=labels)"
   ],
   "id": "b31061d5e6300d6a",
   "outputs": [],
   "execution_count": 8
  },
  {
   "metadata": {},
   "cell_type": "markdown",
   "source": [
    "Your `compute_metrics` function is ready to go now, and you’ll return to it when you setup your training.\n",
    "## Train\n",
    "Before you start training your model, create a map of the expected ids to their labels with `id2label` and `label2id`:"
   ],
   "id": "3955208414a05bed"
  },
  {
   "metadata": {
    "ExecuteTime": {
     "end_time": "2024-07-08T20:32:25.072716Z",
     "start_time": "2024-07-08T20:32:25.068006Z"
    }
   },
   "cell_type": "code",
   "source": [
    "id2label = {0: \"NEGATIVE\", 1: \"POSITIVE\"}\n",
    "label2id = {\"NEGATIVE\": 0, \"POSITIVE\": 1}"
   ],
   "id": "ce9fd615e077aad",
   "outputs": [],
   "execution_count": 9
  },
  {
   "metadata": {},
   "cell_type": "markdown",
   "source": [
    "If you aren’t familiar with finetuning a model with the [Trainer](https://huggingface.co/docs/transformers/v4.42.0/en/main_classes/trainer#transformers.Trainer), take a look at the basic tutorial [here](https://huggingface.co/docs/transformers/en/training#train-with-pytorch-trainer)!\n",
    "\n",
    "You’re ready to start training your model now! Load DistilBERT with [AutoModelForSequenceClassification](https://huggingface.co/docs/transformers/v4.42.0/en/model_doc/auto#transformers.AutoModelForSequenceClassification) along with the number of expected labels, and the label mappings:"
   ],
   "id": "2560efa9aba0b44d"
  },
  {
   "metadata": {
    "ExecuteTime": {
     "end_time": "2024-07-08T20:32:26.664602Z",
     "start_time": "2024-07-08T20:32:25.072716Z"
    }
   },
   "cell_type": "code",
   "source": [
    "from transformers import AutoModelForSequenceClassification, TrainingArguments, Trainer\n",
    "\n",
    "\n",
    "model = AutoModelForSequenceClassification.from_pretrained(\"distilbert/distilbert-base-uncased\", num_labels=2, id2label=id2label, label2id=label2id).cuda()"
   ],
   "id": "7ef5ff915bb6b63",
   "outputs": [
    {
     "name": "stderr",
     "output_type": "stream",
     "text": [
      "Some weights of DistilBertForSequenceClassification were not initialized from the model checkpoint at distilbert/distilbert-base-uncased and are newly initialized: ['classifier.bias', 'classifier.weight', 'pre_classifier.bias', 'pre_classifier.weight']\n",
      "You should probably TRAIN this model on a down-stream task to be able to use it for predictions and inference.\n"
     ]
    }
   ],
   "execution_count": 10
  },
  {
   "metadata": {},
   "cell_type": "markdown",
   "source": [
    "At this point, only three steps remain:\n",
    "\n",
    "1. Define your training hyperparameters in [TrainingArguments](https://huggingface.co/docs/transformers/v4.42.0/en/main_classes/trainer#transformers.TrainingArguments). The only required parameter is `output_dir` which specifies where to save your model. At the end of each epoch, the [Trainer](https://huggingface.co/docs/transformers/v4.42.0/en/main_classes/trainer#transformers.Trainer) will evaluate the accuracy and save the training checkpoint.\n",
    "2. Pass the training arguments to [Trainer](https://huggingface.co/docs/transformers/v4.42.0/en/main_classes/trainer#transformers.Trainer) along with the model, dataset, tokenizer, data collator, and `compute_metrics` function.\n",
    "3. Call `train()` to finetune your model."
   ],
   "id": "8f03ff2228a8535d"
  },
  {
   "metadata": {
    "ExecuteTime": {
     "end_time": "2024-07-09T04:00:35.419184Z",
     "start_time": "2024-07-08T20:32:26.664602Z"
    }
   },
   "cell_type": "code",
   "source": [
    "training_args = TrainingArguments(\n",
    "    output_dir=\"my_awesome_model\",\n",
    "    learning_rate=2e-5,\n",
    "    per_device_train_batch_size=16,\n",
    "    per_device_eval_batch_size=16,\n",
    "    num_train_epochs=2,\n",
    "    weight_decay=0.01,\n",
    "    eval_strategy=\"epoch\",\n",
    "    save_strategy=\"epoch\",\n",
    "    load_best_model_at_end=True,\n",
    ")\n",
    "\n",
    "trainer = Trainer(\n",
    "    model=model,\n",
    "    args=training_args,\n",
    "    train_dataset=tokenized_imdb[\"train\"],\n",
    "    eval_dataset=tokenized_imdb[\"test\"],\n",
    "    tokenizer=tokenizer,\n",
    "    data_collator=data_collator,\n",
    "    compute_metrics=compute_metrics,\n",
    ")\n",
    "\n",
    "trainer.train()"
   ],
   "id": "afc5109a2653f328",
   "outputs": [
    {
     "data": {
      "text/plain": [
       "<IPython.core.display.HTML object>"
      ],
      "text/html": [
       "\n",
       "    <div>\n",
       "      \n",
       "      <progress value='3126' max='3126' style='width:300px; height:20px; vertical-align: middle;'></progress>\n",
       "      [3126/3126 7:28:02, Epoch 2/2]\n",
       "    </div>\n",
       "    <table border=\"1\" class=\"dataframe\">\n",
       "  <thead>\n",
       " <tr style=\"text-align: left;\">\n",
       "      <th>Epoch</th>\n",
       "      <th>Training Loss</th>\n",
       "      <th>Validation Loss</th>\n",
       "      <th>Accuracy</th>\n",
       "    </tr>\n",
       "  </thead>\n",
       "  <tbody>\n",
       "    <tr>\n",
       "      <td>1</td>\n",
       "      <td>0.224800</td>\n",
       "      <td>0.194915</td>\n",
       "      <td>0.925520</td>\n",
       "    </tr>\n",
       "    <tr>\n",
       "      <td>2</td>\n",
       "      <td>0.145500</td>\n",
       "      <td>0.231943</td>\n",
       "      <td>0.931200</td>\n",
       "    </tr>\n",
       "  </tbody>\n",
       "</table><p>"
      ]
     },
     "metadata": {},
     "output_type": "display_data"
    },
    {
     "data": {
      "text/plain": [
       "TrainOutput(global_step=3126, training_loss=0.20540714141884753, metrics={'train_runtime': 26888.1777, 'train_samples_per_second': 1.86, 'train_steps_per_second': 0.116, 'total_flos': 6556904415524352.0, 'train_loss': 0.20540714141884753, 'epoch': 2.0})"
      ]
     },
     "execution_count": 11,
     "metadata": {},
     "output_type": "execute_result"
    }
   ],
   "execution_count": 11
  },
  {
   "metadata": {},
   "cell_type": "markdown",
   "source": [
    "[Trainer](https://huggingface.co/docs/transformers/v4.42.0/en/main_classes/trainer#transformers.Trainer) applies dynamic padding by default when you pass `tokenizer` to it. In this case, you don’t need to specify a data collator explicitly.\n",
    "\n",
    "For a more in-depth example of how to finetune a model for text classification, take a look at the corresponding [PyTorch notebook](https://colab.research.google.com/github/huggingface/notebooks/blob/main/examples/text_classification.ipynb).\n",
    "## Inference\n",
    "Great, now that you’ve finetuned a model, you can use it for inference!\n",
    "\n",
    "Grab some text you’d like to run inference on:"
   ],
   "id": "7fb9d323fe3196c0"
  },
  {
   "metadata": {
    "ExecuteTime": {
     "end_time": "2024-07-09T17:26:08.619110Z",
     "start_time": "2024-07-09T17:26:08.613075Z"
    }
   },
   "cell_type": "code",
   "source": "text = \"This was a masterpiece. Not completely faithful to the books, but enthralling from beginning to end. Might be my favorite of the three.\"",
   "id": "3998c0d94dedb8f0",
   "outputs": [],
   "execution_count": 2
  },
  {
   "metadata": {},
   "cell_type": "markdown",
   "source": "The simplest way to try out your finetuned model for inference is to use it in a [pipeline()](https://huggingface.co/docs/transformers/v4.42.0/en/main_classes/pipelines#transformers.pipeline). Instantiate a `pipeline` for sentiment analysis with your model, and pass your text to it:",
   "id": "7173c633cf21e820"
  },
  {
   "metadata": {
    "ExecuteTime": {
     "end_time": "2024-07-09T17:30:14.256618Z",
     "start_time": "2024-07-09T17:30:13.888267Z"
    }
   },
   "cell_type": "code",
   "source": [
    "from transformers import pipeline\n",
    "\n",
    "\n",
    "classifier = pipeline(\"sentiment-analysis\", model=\"my_awesome_model/checkpoint-3126\", device=0)\n",
    "classifier(text)"
   ],
   "id": "a6d1418e00bece3c",
   "outputs": [
    {
     "data": {
      "text/plain": [
       "[{'label': 'POSITIVE', 'score': 0.9975715279579163}]"
      ]
     },
     "execution_count": 14,
     "metadata": {},
     "output_type": "execute_result"
    }
   ],
   "execution_count": 14
  }
 ],
 "metadata": {
  "kernelspec": {
   "display_name": "Python 3",
   "language": "python",
   "name": "python3"
  },
  "language_info": {
   "codemirror_mode": {
    "name": "ipython",
    "version": 2
   },
   "file_extension": ".py",
   "mimetype": "text/x-python",
   "name": "python",
   "nbconvert_exporter": "python",
   "pygments_lexer": "ipython2",
   "version": "2.7.6"
  }
 },
 "nbformat": 4,
 "nbformat_minor": 5
}
